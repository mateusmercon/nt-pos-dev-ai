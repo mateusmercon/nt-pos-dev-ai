{
  "nbformat": 4,
  "nbformat_minor": 0,
  "metadata": {
    "colab": {
      "provenance": [],
      "authorship_tag": "ABX9TyOi7MTVy6glYbiBo2uBu1r+",
      "include_colab_link": true
    },
    "kernelspec": {
      "name": "python3",
      "display_name": "Python 3"
    },
    "language_info": {
      "name": "python"
    }
  },
  "cells": [
    {
      "cell_type": "markdown",
      "metadata": {
        "id": "view-in-github",
        "colab_type": "text"
      },
      "source": [
        "<a href=\"https://colab.research.google.com/github/mateusmercon/nt-pos-dev-ai/blob/main/lista-2-nt-pos-dev-ai.ipynb\" target=\"_parent\"><img src=\"https://colab.research.google.com/assets/colab-badge.svg\" alt=\"Open In Colab\"/></a>"
      ]
    },
    {
      "cell_type": "markdown",
      "source": [
        "# Trabalho de Introdução ao Pré-processamento de Dados com Pandas - Parte 2\n",
        "\n",
        "Aluno: Mateus Neves Merçon"
      ],
      "metadata": {
        "id": "aO-wKRf7hPJr"
      }
    },
    {
      "cell_type": "code",
      "execution_count": 1,
      "metadata": {
        "id": "sEZnPvSJg3r1"
      },
      "outputs": [],
      "source": [
        "import pandas as pd\n",
        "import numpy as np"
      ]
    },
    {
      "cell_type": "code",
      "source": [
        "df = pd.read_csv(\"https://w.infojurclientes.com.br/Covid_Data.csv\")\n"
      ],
      "metadata": {
        "id": "Q0KhPqNjhGjM"
      },
      "execution_count": 2,
      "outputs": []
    },
    {
      "cell_type": "markdown",
      "source": [
        "## Exercício 1"
      ],
      "metadata": {
        "id": "YaPGGvv7hbmk"
      }
    },
    {
      "cell_type": "markdown",
      "source": [
        "### a) Agrupe os dados por sexo e calcule a soma dos casos confirmados.\n"
      ],
      "metadata": {
        "id": "4gxg-ZylhrIN"
      }
    },
    {
      "cell_type": "code",
      "source": [],
      "metadata": {
        "id": "nvmxgGkfh72T"
      },
      "execution_count": null,
      "outputs": []
    },
    {
      "cell_type": "markdown",
      "source": [
        "### b) Ordene o resultado em ordem crescente com base na soma dos casos confirmados."
      ],
      "metadata": {
        "id": "MCO-MgKRh3Vn"
      }
    },
    {
      "cell_type": "code",
      "source": [],
      "metadata": {
        "id": "0u_nI3_fh8bB"
      },
      "execution_count": null,
      "outputs": []
    },
    {
      "cell_type": "markdown",
      "source": [
        "### c) Exiba as primeiras cinco linhas do resultado."
      ],
      "metadata": {
        "id": "AowLlQTSh6FG"
      }
    },
    {
      "cell_type": "code",
      "source": [],
      "metadata": {
        "id": "_BQdSeQahgif"
      },
      "execution_count": null,
      "outputs": []
    },
    {
      "cell_type": "markdown",
      "source": [
        "## Exercício 2"
      ],
      "metadata": {
        "id": "ldvl-kGlh-a9"
      }
    },
    {
      "cell_type": "code",
      "source": [],
      "metadata": {
        "id": "s5-drmFyiAeE"
      },
      "execution_count": null,
      "outputs": []
    }
  ]
}